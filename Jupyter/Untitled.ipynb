{
 "cells": [
  {
   "cell_type": "markdown",
   "id": "f6e1b99b",
   "metadata": {},
   "source": [
    "Importar a biblioteca Pandas"
   ]
  },
  {
   "cell_type": "code",
   "execution_count": 1,
   "id": "eb192005",
   "metadata": {},
   "outputs": [],
   "source": [
    "import pandas as pd"
   ]
  },
  {
   "cell_type": "markdown",
   "id": "8f36fc87",
   "metadata": {},
   "source": [
    "DataFrame = Tabela / Excel.xlsx e .xls / csv / dictionary"
   ]
  },
  {
   "cell_type": "code",
   "execution_count": 2,
   "id": "0924fd31",
   "metadata": {},
   "outputs": [],
   "source": [
    "tabela_vendas = {\n",
    "    'cod_produto':['LL001', 'LP001'],\n",
    "    'produto':['Livro de Lógica', 'Livro de Python'],\n",
    "    'valor':[200.00, 150.00],\n",
    "    'quantidade':[1, 3],\n",
    "    'data_venda':['2022/09/14', '2022/09/17'],\n",
    "    'loja':['Clube Letras', 'North Shopping']\n",
    "}\n",
    "tabela_vendas_df = pd.DataFrame(tabela_vendas)"
   ]
  },
  {
   "cell_type": "markdown",
   "id": "9aca9bb0",
   "metadata": {},
   "source": [
    "Exibir a Tabela\n",
    "-print: já usa, normal\n",
    "-display: criar a tabela"
   ]
  },
  {
   "cell_type": "code",
   "execution_count": 3,
   "id": "f77c98a4",
   "metadata": {},
   "outputs": [
    {
     "name": "stdout",
     "output_type": "stream",
     "text": [
      "  cod_produto          produto  valor  quantidade  data_venda            loja\n",
      "0       LL001  Livro de Lógica  200.0           1  2022/09/14    Clube Letras\n",
      "1       LP001  Livro de Python  150.0           3  2022/09/17  North Shopping\n"
     ]
    }
   ],
   "source": [
    "print(tabela_vendas_df)"
   ]
  },
  {
   "cell_type": "markdown",
   "id": "bee157bd",
   "metadata": {},
   "source": [
    "Importar Planilha - Base de Dados"
   ]
  },
  {
   "cell_type": "code",
   "execution_count": 4,
   "id": "8b6e3642",
   "metadata": {},
   "outputs": [
    {
     "data": {
      "text/html": [
       "<div>\n",
       "<style scoped>\n",
       "    .dataframe tbody tr th:only-of-type {\n",
       "        vertical-align: middle;\n",
       "    }\n",
       "\n",
       "    .dataframe tbody tr th {\n",
       "        vertical-align: top;\n",
       "    }\n",
       "\n",
       "    .dataframe thead th {\n",
       "        text-align: right;\n",
       "    }\n",
       "</style>\n",
       "<table border=\"1\" class=\"dataframe\">\n",
       "  <thead>\n",
       "    <tr style=\"text-align: right;\">\n",
       "      <th></th>\n",
       "      <th>cod_produto</th>\n",
       "      <th>data_venda</th>\n",
       "      <th>nome da loja</th>\n",
       "      <th>produto</th>\n",
       "      <th>qtd</th>\n",
       "      <th>valor unitário</th>\n",
       "      <th>valor final</th>\n",
       "    </tr>\n",
       "  </thead>\n",
       "  <tbody>\n",
       "    <tr>\n",
       "      <th>0</th>\n",
       "      <td>1</td>\n",
       "      <td>2022-09-13</td>\n",
       "      <td>Iande</td>\n",
       "      <td>Camisa polo</td>\n",
       "      <td>100</td>\n",
       "      <td>120</td>\n",
       "      <td>12000</td>\n",
       "    </tr>\n",
       "    <tr>\n",
       "      <th>1</th>\n",
       "      <td>2</td>\n",
       "      <td>2022-09-13</td>\n",
       "      <td>Joquei</td>\n",
       "      <td>Cabo usb</td>\n",
       "      <td>150</td>\n",
       "      <td>250</td>\n",
       "      <td>37500</td>\n",
       "    </tr>\n",
       "    <tr>\n",
       "      <th>2</th>\n",
       "      <td>3</td>\n",
       "      <td>2020-09-14</td>\n",
       "      <td>iguatemi</td>\n",
       "      <td>Carregador</td>\n",
       "      <td>28</td>\n",
       "      <td>780</td>\n",
       "      <td>21840</td>\n",
       "    </tr>\n",
       "    <tr>\n",
       "      <th>3</th>\n",
       "      <td>4</td>\n",
       "      <td>2020-09-14</td>\n",
       "      <td>riomar</td>\n",
       "      <td>Bateria</td>\n",
       "      <td>50</td>\n",
       "      <td>240</td>\n",
       "      <td>12000</td>\n",
       "    </tr>\n",
       "    <tr>\n",
       "      <th>4</th>\n",
       "      <td>5</td>\n",
       "      <td>2020-09-14</td>\n",
       "      <td>parangaba</td>\n",
       "      <td>Terno Preto</td>\n",
       "      <td>60</td>\n",
       "      <td>300</td>\n",
       "      <td>18000</td>\n",
       "    </tr>\n",
       "    <tr>\n",
       "      <th>5</th>\n",
       "      <td>6</td>\n",
       "      <td>2020-09-15</td>\n",
       "      <td>caucaia</td>\n",
       "      <td>Camisa Preta</td>\n",
       "      <td>40</td>\n",
       "      <td>580</td>\n",
       "      <td>23200</td>\n",
       "    </tr>\n",
       "    <tr>\n",
       "      <th>6</th>\n",
       "      <td>7</td>\n",
       "      <td>2020-09-15</td>\n",
       "      <td>joquei</td>\n",
       "      <td>Oculos</td>\n",
       "      <td>200</td>\n",
       "      <td>60</td>\n",
       "      <td>12000</td>\n",
       "    </tr>\n",
       "    <tr>\n",
       "      <th>7</th>\n",
       "      <td>8</td>\n",
       "      <td>2020-09-15</td>\n",
       "      <td>north shopping</td>\n",
       "      <td>Mochila</td>\n",
       "      <td>150</td>\n",
       "      <td>140</td>\n",
       "      <td>21000</td>\n",
       "    </tr>\n",
       "    <tr>\n",
       "      <th>8</th>\n",
       "      <td>9</td>\n",
       "      <td>2020-09-16</td>\n",
       "      <td>iguatemi</td>\n",
       "      <td>Bolsa</td>\n",
       "      <td>600</td>\n",
       "      <td>150</td>\n",
       "      <td>90000</td>\n",
       "    </tr>\n",
       "    <tr>\n",
       "      <th>9</th>\n",
       "      <td>10</td>\n",
       "      <td>2020-09-16</td>\n",
       "      <td>parangaba</td>\n",
       "      <td>Café</td>\n",
       "      <td>750</td>\n",
       "      <td>80</td>\n",
       "      <td>60000</td>\n",
       "    </tr>\n",
       "  </tbody>\n",
       "</table>\n",
       "</div>"
      ],
      "text/plain": [
       "   cod_produto data_venda    nome da loja       produto  qtd  valor unitário  \\\n",
       "0            1 2022-09-13           Iande   Camisa polo  100             120   \n",
       "1            2 2022-09-13          Joquei      Cabo usb  150             250   \n",
       "2            3 2020-09-14        iguatemi    Carregador   28             780   \n",
       "3            4 2020-09-14          riomar       Bateria   50             240   \n",
       "4            5 2020-09-14       parangaba   Terno Preto   60             300   \n",
       "5            6 2020-09-15         caucaia  Camisa Preta   40             580   \n",
       "6            7 2020-09-15          joquei        Oculos  200              60   \n",
       "7            8 2020-09-15  north shopping       Mochila  150             140   \n",
       "8            9 2020-09-16        iguatemi         Bolsa  600             150   \n",
       "9           10 2020-09-16       parangaba          Café  750              80   \n",
       "\n",
       "   valor final  \n",
       "0        12000  \n",
       "1        37500  \n",
       "2        21840  \n",
       "3        12000  \n",
       "4        18000  \n",
       "5        23200  \n",
       "6        12000  \n",
       "7        21000  \n",
       "8        90000  \n",
       "9        60000  "
      ]
     },
     "metadata": {},
     "output_type": "display_data"
    }
   ],
   "source": [
    "tabelaExcel = pd.read_excel('Vendas.xlsx')\n",
    "display(tabelaExcel)"
   ]
  },
  {
   "cell_type": "markdown",
   "id": "5ce0260a",
   "metadata": {},
   "source": [
    "Visualização dos Dados - Métodos \n",
    "- Head : começo da tabela -> 5 primeiras linhas"
   ]
  },
  {
   "cell_type": "code",
   "execution_count": 5,
   "id": "343e6b06",
   "metadata": {},
   "outputs": [
    {
     "data": {
      "text/html": [
       "<div>\n",
       "<style scoped>\n",
       "    .dataframe tbody tr th:only-of-type {\n",
       "        vertical-align: middle;\n",
       "    }\n",
       "\n",
       "    .dataframe tbody tr th {\n",
       "        vertical-align: top;\n",
       "    }\n",
       "\n",
       "    .dataframe thead th {\n",
       "        text-align: right;\n",
       "    }\n",
       "</style>\n",
       "<table border=\"1\" class=\"dataframe\">\n",
       "  <thead>\n",
       "    <tr style=\"text-align: right;\">\n",
       "      <th></th>\n",
       "      <th>cod_produto</th>\n",
       "      <th>data_venda</th>\n",
       "      <th>nome da loja</th>\n",
       "      <th>produto</th>\n",
       "      <th>qtd</th>\n",
       "      <th>valor unitário</th>\n",
       "      <th>valor final</th>\n",
       "    </tr>\n",
       "  </thead>\n",
       "  <tbody>\n",
       "    <tr>\n",
       "      <th>0</th>\n",
       "      <td>1</td>\n",
       "      <td>2022-09-13</td>\n",
       "      <td>Iande</td>\n",
       "      <td>Camisa polo</td>\n",
       "      <td>100</td>\n",
       "      <td>120</td>\n",
       "      <td>12000</td>\n",
       "    </tr>\n",
       "    <tr>\n",
       "      <th>1</th>\n",
       "      <td>2</td>\n",
       "      <td>2022-09-13</td>\n",
       "      <td>Joquei</td>\n",
       "      <td>Cabo usb</td>\n",
       "      <td>150</td>\n",
       "      <td>250</td>\n",
       "      <td>37500</td>\n",
       "    </tr>\n",
       "    <tr>\n",
       "      <th>2</th>\n",
       "      <td>3</td>\n",
       "      <td>2020-09-14</td>\n",
       "      <td>iguatemi</td>\n",
       "      <td>Carregador</td>\n",
       "      <td>28</td>\n",
       "      <td>780</td>\n",
       "      <td>21840</td>\n",
       "    </tr>\n",
       "    <tr>\n",
       "      <th>3</th>\n",
       "      <td>4</td>\n",
       "      <td>2020-09-14</td>\n",
       "      <td>riomar</td>\n",
       "      <td>Bateria</td>\n",
       "      <td>50</td>\n",
       "      <td>240</td>\n",
       "      <td>12000</td>\n",
       "    </tr>\n",
       "    <tr>\n",
       "      <th>4</th>\n",
       "      <td>5</td>\n",
       "      <td>2020-09-14</td>\n",
       "      <td>parangaba</td>\n",
       "      <td>Terno Preto</td>\n",
       "      <td>60</td>\n",
       "      <td>300</td>\n",
       "      <td>18000</td>\n",
       "    </tr>\n",
       "  </tbody>\n",
       "</table>\n",
       "</div>"
      ],
      "text/plain": [
       "   cod_produto data_venda nome da loja      produto  qtd  valor unitário  \\\n",
       "0            1 2022-09-13        Iande  Camisa polo  100             120   \n",
       "1            2 2022-09-13       Joquei     Cabo usb  150             250   \n",
       "2            3 2020-09-14     iguatemi   Carregador   28             780   \n",
       "3            4 2020-09-14       riomar      Bateria   50             240   \n",
       "4            5 2020-09-14    parangaba  Terno Preto   60             300   \n",
       "\n",
       "   valor final  \n",
       "0        12000  \n",
       "1        37500  \n",
       "2        21840  \n",
       "3        12000  \n",
       "4        18000  "
      ]
     },
     "metadata": {},
     "output_type": "display_data"
    }
   ],
   "source": [
    "display(tabelaExcel.head(5))"
   ]
  },
  {
   "cell_type": "markdown",
   "id": "1efeee94",
   "metadata": {},
   "source": [
    "Visualização dos Dados - Métodos\n",
    "- shape: contar o número de linhas e colunas"
   ]
  },
  {
   "cell_type": "code",
   "execution_count": 6,
   "id": "b1c1ad32",
   "metadata": {},
   "outputs": [
    {
     "data": {
      "text/plain": [
       "(10, 7)"
      ]
     },
     "metadata": {},
     "output_type": "display_data"
    }
   ],
   "source": [
    "display(tabelaExcel.shape)"
   ]
  },
  {
   "cell_type": "markdown",
   "id": "b04574b3",
   "metadata": {},
   "source": [
    "Selecionar as Series = Linhas ou uma coluna"
   ]
  },
  {
   "cell_type": "code",
   "execution_count": 11,
   "id": "43182a87",
   "metadata": {},
   "outputs": [
    {
     "data": {
      "text/html": [
       "<div>\n",
       "<style scoped>\n",
       "    .dataframe tbody tr th:only-of-type {\n",
       "        vertical-align: middle;\n",
       "    }\n",
       "\n",
       "    .dataframe tbody tr th {\n",
       "        vertical-align: top;\n",
       "    }\n",
       "\n",
       "    .dataframe thead th {\n",
       "        text-align: right;\n",
       "    }\n",
       "</style>\n",
       "<table border=\"1\" class=\"dataframe\">\n",
       "  <thead>\n",
       "    <tr style=\"text-align: right;\">\n",
       "      <th></th>\n",
       "      <th>produto</th>\n",
       "      <th>qtd</th>\n",
       "      <th>valor unitário</th>\n",
       "    </tr>\n",
       "  </thead>\n",
       "  <tbody>\n",
       "    <tr>\n",
       "      <th>0</th>\n",
       "      <td>Camisa polo</td>\n",
       "      <td>100</td>\n",
       "      <td>120</td>\n",
       "    </tr>\n",
       "    <tr>\n",
       "      <th>1</th>\n",
       "      <td>Cabo usb</td>\n",
       "      <td>150</td>\n",
       "      <td>250</td>\n",
       "    </tr>\n",
       "    <tr>\n",
       "      <th>2</th>\n",
       "      <td>Carregador</td>\n",
       "      <td>28</td>\n",
       "      <td>780</td>\n",
       "    </tr>\n",
       "    <tr>\n",
       "      <th>3</th>\n",
       "      <td>Bateria</td>\n",
       "      <td>50</td>\n",
       "      <td>240</td>\n",
       "    </tr>\n",
       "    <tr>\n",
       "      <th>4</th>\n",
       "      <td>Terno Preto</td>\n",
       "      <td>60</td>\n",
       "      <td>300</td>\n",
       "    </tr>\n",
       "    <tr>\n",
       "      <th>5</th>\n",
       "      <td>Camisa Preta</td>\n",
       "      <td>40</td>\n",
       "      <td>580</td>\n",
       "    </tr>\n",
       "    <tr>\n",
       "      <th>6</th>\n",
       "      <td>Oculos</td>\n",
       "      <td>200</td>\n",
       "      <td>60</td>\n",
       "    </tr>\n",
       "    <tr>\n",
       "      <th>7</th>\n",
       "      <td>Mochila</td>\n",
       "      <td>150</td>\n",
       "      <td>140</td>\n",
       "    </tr>\n",
       "    <tr>\n",
       "      <th>8</th>\n",
       "      <td>Bolsa</td>\n",
       "      <td>600</td>\n",
       "      <td>150</td>\n",
       "    </tr>\n",
       "    <tr>\n",
       "      <th>9</th>\n",
       "      <td>Café</td>\n",
       "      <td>750</td>\n",
       "      <td>80</td>\n",
       "    </tr>\n",
       "  </tbody>\n",
       "</table>\n",
       "</div>"
      ],
      "text/plain": [
       "        produto  qtd  valor unitário\n",
       "0   Camisa polo  100             120\n",
       "1      Cabo usb  150             250\n",
       "2    Carregador   28             780\n",
       "3       Bateria   50             240\n",
       "4   Terno Preto   60             300\n",
       "5  Camisa Preta   40             580\n",
       "6        Oculos  200              60\n",
       "7       Mochila  150             140\n",
       "8         Bolsa  600             150\n",
       "9          Café  750              80"
      ]
     },
     "metadata": {},
     "output_type": "display_data"
    }
   ],
   "source": [
    "produto = tabelaExcel[['produto', 'qtd', 'valor unitário']]\n",
    "display(produto)"
   ]
  },
  {
   "cell_type": "markdown",
   "id": "39fad093",
   "metadata": {},
   "source": [
    "Metodo .loc - selecionar as series"
   ]
  },
  {
   "cell_type": "code",
   "execution_count": 12,
   "id": "cac56c1a",
   "metadata": {},
   "outputs": [
    {
     "data": {
      "text/plain": [
       "cod_produto                         1\n",
       "data_venda        2022-09-13 00:00:00\n",
       "nome da loja                    Iande\n",
       "produto                   Camisa polo\n",
       "qtd                               100\n",
       "valor unitário                    120\n",
       "valor final                     12000\n",
       "Name: 0, dtype: object"
      ]
     },
     "metadata": {},
     "output_type": "display_data"
    }
   ],
   "source": [
    "display(tabelaExcel.loc[0])"
   ]
  },
  {
   "cell_type": "code",
   "execution_count": 14,
   "id": "9e90ba71",
   "metadata": {},
   "outputs": [
    {
     "data": {
      "text/html": [
       "<div>\n",
       "<style scoped>\n",
       "    .dataframe tbody tr th:only-of-type {\n",
       "        vertical-align: middle;\n",
       "    }\n",
       "\n",
       "    .dataframe tbody tr th {\n",
       "        vertical-align: top;\n",
       "    }\n",
       "\n",
       "    .dataframe thead th {\n",
       "        text-align: right;\n",
       "    }\n",
       "</style>\n",
       "<table border=\"1\" class=\"dataframe\">\n",
       "  <thead>\n",
       "    <tr style=\"text-align: right;\">\n",
       "      <th></th>\n",
       "      <th>cod_produto</th>\n",
       "      <th>data_venda</th>\n",
       "      <th>nome da loja</th>\n",
       "      <th>produto</th>\n",
       "      <th>qtd</th>\n",
       "      <th>valor unitário</th>\n",
       "      <th>valor final</th>\n",
       "    </tr>\n",
       "  </thead>\n",
       "  <tbody>\n",
       "    <tr>\n",
       "      <th>7</th>\n",
       "      <td>8</td>\n",
       "      <td>2020-09-15</td>\n",
       "      <td>north shopping</td>\n",
       "      <td>Mochila</td>\n",
       "      <td>150</td>\n",
       "      <td>140</td>\n",
       "      <td>21000</td>\n",
       "    </tr>\n",
       "  </tbody>\n",
       "</table>\n",
       "</div>"
      ],
      "text/plain": [
       "   cod_produto data_venda    nome da loja  produto  qtd  valor unitário  \\\n",
       "7            8 2020-09-15  north shopping  Mochila  150             140   \n",
       "\n",
       "   valor final  \n",
       "7        21000  "
      ]
     },
     "metadata": {},
     "output_type": "display_data"
    }
   ],
   "source": [
    "vendaNort = tabelaExcel.loc[tabelaExcel['nome da loja'] == 'north shopping']\n",
    "display(vendaNort)"
   ]
  },
  {
   "cell_type": "code",
   "execution_count": null,
   "id": "9adf2f80",
   "metadata": {},
   "outputs": [],
   "source": []
  }
 ],
 "metadata": {
  "kernelspec": {
   "display_name": "Python 3 (ipykernel)",
   "language": "python",
   "name": "python3"
  },
  "language_info": {
   "codemirror_mode": {
    "name": "ipython",
    "version": 3
   },
   "file_extension": ".py",
   "mimetype": "text/x-python",
   "name": "python",
   "nbconvert_exporter": "python",
   "pygments_lexer": "ipython3",
   "version": "3.9.12"
  }
 },
 "nbformat": 4,
 "nbformat_minor": 5
}
